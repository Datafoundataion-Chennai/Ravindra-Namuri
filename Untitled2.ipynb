{
 "cells": [
  {
   "cell_type": "code",
   "execution_count": 77,
   "id": "353a26be-daaa-4c34-8b46-6900086ac935",
   "metadata": {},
   "outputs": [
    {
     "name": "stdout",
     "output_type": "stream",
     "text": [
      "END\n"
     ]
    },
    {
     "data": {
      "text/plain": [
       "25"
      ]
     },
     "execution_count": 77,
     "metadata": {},
     "output_type": "execute_result"
    }
   ],
   "source": [
    "def calculator(a, b, operator):\n",
    "    \n",
    "    \"\"\"\n",
    "    Performs a calculation based on the given operator.\n",
    "    \n",
    "    :param a: First number (int/float)\n",
    "    :param b: Second number (int/float)\n",
    "    :param operator: String representing an operation (+, -, *, /, %, **)\n",
    "    :return: Computed result or error message\n",
    "    \"\"\"\n",
    "    try:\n",
    "        # TODO: Implement operation handling and raise exceptions for invalid cases\n",
    "        if operator ==\"+\":\n",
    "            \n",
    "            return a+b\n",
    "        elif operator == \"-\":\n",
    "            return a-b\n",
    "        elif operator==\"/\":\n",
    "            \n",
    "            return a/b\n",
    "        elif operator ==\"*\":\n",
    "            return a*b\n",
    "        elif operator ==\"%\":\n",
    "            \n",
    "            return a%b\n",
    "        elif operator ==\"**\":\n",
    "            \n",
    "            return a**b\n",
    "        else:\n",
    "            print(\"Unsupported Operator\")\n",
    "    except ZeroDivisionError:\n",
    "        print(\"ZerodivisionError\")  # TODO: Handle division by zero\n",
    "    except ValueError:\n",
    "        print(\"Value Error\")  # TODO: Handle invalid numbers\n",
    "    except TypeError:\n",
    "        print(\"Type Error\")  # TODO: Handle non-numeric input\n",
    "    except Exception as e:\n",
    "        print(\"new exception\",e)  # TODO: Handle any unexpected exceptions\n",
    "    else:\n",
    "        print(\"No exceptions\")\n",
    "    finally:\n",
    "        print(\"END\")\n",
    "calculator(20, 5, \"+\")\n"
   ]
  },
  {
   "cell_type": "code",
   "execution_count": 79,
   "id": "be3db6e3-58ed-4542-bb50-7153a4fa2b74",
   "metadata": {},
   "outputs": [
    {
     "name": "stdout",
     "output_type": "stream",
     "text": [
      "None\n",
      "None\n"
     ]
    }
   ],
   "source": [
    "class InsufficientFundsError(Exception):\n",
    "    \"\"\"Custom exception for insufficient balance\"\"\"\n",
    "    pass\n",
    "\n",
    "class BankAccount:\n",
    "    def __init__(self, balance):\n",
    "        self.balance = balance\n",
    "\n",
    "    def withdraw(self, amount):\n",
    "        \"\"\"\n",
    "        Withdraws money from the account.\n",
    "        \n",
    "        :param amount: Amount to withdraw\n",
    "        :return: Remaining balance or error message\n",
    "        \"\"\"\n",
    "        try:\n",
    "            # TODO: Implement withdrawal logic\n",
    "            pass  \n",
    "        except ValueError:\n",
    "            pass  # TODO: Handle negative withdrawal amounts\n",
    "        except InsufficientFundsError:\n",
    "            pass  # TODO: Handle insufficient funds\n",
    "        except Exception as e:\n",
    "            pass  # TODO: Handle unexpected errors\n",
    "\n",
    "# Example Usage:\n",
    "account = BankAccount(100)\n",
    "print(account.withdraw(150))  # Should raise InsufficientFundsError\n",
    "print(account.withdraw(-10))  # Should raise ValueError\n"
   ]
  },
  {
   "cell_type": "code",
   "execution_count": 82,
   "id": "c453604c-9288-4b2b-8db6-a63e432afefe",
   "metadata": {},
   "outputs": [
    {
     "name": "stdout",
     "output_type": "stream",
     "text": [
      "END\n"
     ]
    },
    {
     "data": {
      "text/plain": [
       "25"
      ]
     },
     "execution_count": 82,
     "metadata": {},
     "output_type": "execute_result"
    }
   ],
   "source": [
    "def calculator(a, b, operator):\n",
    "    \n",
    "    \"\"\"\n",
    "    Performs a calculation based on the given operator.\n",
    "    \n",
    "    :param a: First number (int/float)\n",
    "    :param b: Second number (int/float)\n",
    "    :param operator: String representing an operation (+, -, *, /, %, **)\n",
    "    :return: Computed result or error message\n",
    "    \"\"\"\n",
    "    try:\n",
    "        # TODO: Implement operation handling and raise exceptions for invalid cases\n",
    "        if operator ==\"+\":\n",
    "            \n",
    "            return a+b\n",
    "        elif operator == \"-\":\n",
    "            return a-b\n",
    "        elif operator==\"/\":\n",
    "            \n",
    "            return a/b\n",
    "        elif operator ==\"*\":\n",
    "            return a*b\n",
    "        elif operator ==\"%\":\n",
    "            \n",
    "            return a%b\n",
    "        elif operator ==\"**\":\n",
    "            \n",
    "            return a**b\n",
    "        else:\n",
    "            print(\"Unsupported Operator\")\n",
    "    except ZeroDivisionError:\n",
    "        print(\"ZerodivisionError\")  # TODO: Handle division by zero\n",
    "    except ValueError:\n",
    "        print(\"Value Error\")  # TODO: Handle invalid numbers\n",
    "    except TypeError:\n",
    "        print(\"Type Error\")  # TODO: Handle non-numeric input\n",
    "    except Exception as e:\n",
    "        print(\"new exception\",e)  # TODO: Handle any unexpected exceptions\n",
    "    else:\n",
    "        print(\"No exceptions\")\n",
    "    finally:\n",
    "        print(\"END\")\n",
    "calculator(20, 5, \"+\")\n"
   ]
  },
  {
   "cell_type": "code",
   "execution_count": null,
   "id": "404a86a3-69cc-4e89-981e-4ea40088170a",
   "metadata": {},
   "outputs": [],
   "source": []
  }
 ],
 "metadata": {
  "kernelspec": {
   "display_name": "Python [conda env:base] *",
   "language": "python",
   "name": "conda-base-py"
  },
  "language_info": {
   "codemirror_mode": {
    "name": "ipython",
    "version": 3
   },
   "file_extension": ".py",
   "mimetype": "text/x-python",
   "name": "python",
   "nbconvert_exporter": "python",
   "pygments_lexer": "ipython3",
   "version": "3.12.7"
  }
 },
 "nbformat": 4,
 "nbformat_minor": 5
}
