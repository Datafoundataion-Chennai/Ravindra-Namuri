{
 "cells": [
  {
   "cell_type": "code",
   "execution_count": null,
   "id": "7b1068dc-9ce4-4d1e-a33a-e979b2a9ac86",
   "metadata": {},
   "outputs": [],
   "source": [
    "import random\n",
    "import time\n",
    "\n",
    "# Define the maze grid\n",
    "maze = [\n",
    "    [\"#\", \"#\", \"#\", \"#\", \"#\", \"#\", \"#\", \"#\"],\n",
    "    [\"#\", \"P\", \".\", \".\", \"#\", \".\", \"E\", \"#\"],\n",
    "    [\"#\", \"#\", \"#\", \".\", \"#\", \".\", \"#\", \"#\"],\n",
    "    [\"#\", \".\", \"G\", \".\", \".\", \".\", \".\", \"#\"],\n",
    "    [\"#\", \"#\", \"#\", \"#\", \"#\", \"#\", \"#\", \"#\"]\n",
    "]\n",
    "\n",
    "# Function to display the maze\n",
    "def print_maze():\n",
    "    for row in maze:\n",
    "        print(\" \".join(row))\n",
    "    print(\"\\n\")\n",
    "\n",
    "# Function to find the position of an element (P, G, E)\n",
    "def find_position(symbol):\n",
    "    for i in range(len(maze)):\n",
    "        for j in range(len(maze[i])):\n",
    "            if maze[i][j] == symbol:\n",
    "                return (i, j)\n",
    "    return None\n",
    "def move_player(direction):\n",
    "    global maze\n",
    "    px, py = find_position(\"P\")\n",
    "    \n",
    "    # Calculate new position based on input\n",
    "    new_x, new_y = px, py\n",
    "    if direction == \"W\" : new_x -= 1  # Up\n",
    "    elif direction == \"S\" : new_x += 1  # Down\n",
    "    elif direction == \"A\" : new_y -= 1  # Left\n",
    "    elif direction == \"D\" : new_y += 1  # Right\n",
    "    if maze[new_x][new_y] == '#':\n",
    "        print(\"Hitting the wall\")\n",
    "        return \n",
    "    elif maze[new_x][new_y] == 'E':\n",
    "        print(\"You are escaped\")\n",
    "        \n",
    "    maze[px][py] = '.'\n",
    "    maze[new_x][new_y] = 'P'\n",
    "    \n",
    "    # TODO: Handle wall collisions\n",
    "    # TODO: Handle reaching the exit\n",
    "    # TODO: Handle valid movement updates\n",
    "def move_ghosts():\n",
    "    global maze\n",
    "    px, py = find_position(\"P\")\n",
    "    gx, gy = find_position(\"G\")\n",
    "    if gx<px:\n",
    "        new_gx, new_gy = gx+1, gy\n",
    "    elif gx>px:\n",
    "        new_gx, new_gy = gx-1, gy\n",
    "    elif gy<py:\n",
    "        new_gx, new_gy = gx, gy+1\n",
    "    elif gy>py:\n",
    "        new_gx, new_gy = gx, gy-1\n",
    "    \n",
    "\n",
    "    # TODO: Implement logic to move ghost closer to player\n",
    "    \n",
    "def game_loop():\n",
    "    print(\"🎃 Welcome to the Haunted Maze! Escape before the ghosts catch you! 👻\")\n",
    "    print_maze()\n",
    "    \n",
    "    while True:\n",
    "        direction = input(\"Move (W/A/S/D): \").upper()\n",
    "        if direction not in [\"W\", \"A\", \"S\", \"D\"]:\n",
    "            print(\"Invalid move! Use W (up), A (left), S (down), D (right)\")\n",
    "            continue\n",
    "        \n",
    "        move_player(direction)  # Move player\n",
    "        move_ghosts()  # Move ghosts\n",
    "        print_maze()\n",
    "        \n",
    "        # TODO: Check win condition\n",
    "        if p\n",
    "        # TODO: Check lose condition\n",
    "\n",
    "game_loop()\n",
    "\n"
   ]
  },
  {
   "cell_type": "code",
   "execution_count": 33,
   "id": "5a373e35-ded8-44a1-8d68-bd4d9c9c6c33",
   "metadata": {},
   "outputs": [
    {
     "name": "stdout",
     "output_type": "stream",
     "text": [
      "[]\n"
     ]
    }
   ],
   "source": [
    "import re\n",
    "text=\"python is object-oriented high-level\"\n",
    "match=re.findall(r\"\\b\\w+development\",text)\n",
    "print(match)"
   ]
  },
  {
   "cell_type": "code",
   "execution_count": 89,
   "id": "5916ba69-b82e-4305-88b6-4f3b74b9e0f1",
   "metadata": {},
   "outputs": [
    {
     "name": "stdout",
     "output_type": "stream",
     "text": [
      "['support@example.com', 'john.doe123@company.org', 'jane_doe@domain.co.uk']\n"
     ]
    }
   ],
   "source": [
    "import re\n",
    "text = \"Contact us at support@example.com, john.doe123@company.org, or invalid-email@com. Also, try jane_doe@domain.co.uk.\"\n",
    "match=re.findall(r\"[a-zA-Z0-9._-]+@+\\w+[.]\\w+[a-zA-Z0-9.-_][a-z]+\",text)\n",
    "print(match)"
   ]
  },
  {
   "cell_type": "code",
   "execution_count": 101,
   "id": "1d02bffb-e199-4c9d-9ab4-a1be323e4490",
   "metadata": {},
   "outputs": [
    {
     "name": "stdout",
     "output_type": "stream",
     "text": [
      "['#Python', '#coding', '#100DaysOfCode', '#Regex']\n"
     ]
    }
   ],
   "source": [
    "import re\n",
    "tweet = \"Learning #Python is fun! #coding #100DaysOfCode #Regex_Challenge\"\n",
    "match=re.findall(r\"#[a-zA-Z0-9]+\",tweet)\n",
    "print(match)"
   ]
  },
  {
   "cell_type": "code",
   "execution_count": null,
   "id": "2ee2d1c1-fabb-47b2-90b0-0cabba9c3e5b",
   "metadata": {},
   "outputs": [],
   "source": [
    "import re\n",
    "passwords = [\"WeakPass\", \"Str0ng@Pass\", \"NoSpecial1\", \"short!1\", \"Secure#123\"]\n"
   ]
  },
  {
   "cell_type": "code",
   "execution_count": 1,
   "id": "82f4d0b4-4419-4867-b5cc-1d19c6be4215",
   "metadata": {},
   "outputs": [
    {
     "name": "stderr",
     "output_type": "stream",
     "text": [
      "2025-03-03 15:34:20,021 - WARNING - Invalid Authorization Code!\n",
      "2025-03-03 15:34:20,024 - ERROR - Launch Authorization Failed! Access Denied.\n",
      "2025-03-03 15:34:20,027 - INFO - Authorization Code Validated Successfully!\n",
      "2025-03-03 15:34:20,028 - INFO - Launch authorized for USS Trident. Preparing to launch SLBM...\n",
      "2025-03-03 15:34:20,029 - INFO - 🚀 Missile launched carrying Warhead W001: Type Thermonuclear, Yield 1000kt!\n"
     ]
    }
   ],
   "source": [
    "import json\n",
    "import logging\n",
    "from authorization import LaunchAuthorizationSystem\n",
    "\n",
    "# Set up logging (console output only)\n",
    "logging.basicConfig(level=logging.INFO, format=\"%(asctime)s - %(levelname)s - %(message)s\")\n",
    "\n",
    "class Warhead:\n",
    "    \"\"\"Represents a nuclear warhead with specific payload information.\"\"\"\n",
    "    \n",
    "    def __init__(self, warhead_id, type, yield_kt):\n",
    "        self.warhead_id = warhead_id\n",
    "        self.type = type\n",
    "        self.yield_kt = yield_kt  # Yield in kilotons\n",
    "\n",
    "    def get_info(self):\n",
    "        return f\"Warhead {self.warhead_id}: Type {self.type}, Yield {self.yield_kt}kt\"\n",
    "\n",
    "class Submarine:\n",
    "    \"\"\"Controls the nuclear missile launch sequence.\"\"\"\n",
    "    \n",
    "    def __init__(self, name, warhead_data):\n",
    "        self.name = name\n",
    "        self.warheads = [Warhead(**w) for w in warhead_data]\n",
    "\n",
    "    def authorize_launch(self, auth_code):\n",
    "        \"\"\"Attempts to authorize and launch a missile.\"\"\"\n",
    "        if LaunchAuthorizationSystem.validate_code(auth_code):\n",
    "            logging.info(f\"Launch authorized for {self.name}. Preparing to launch SLBM...\")\n",
    "            self.launch_missile()\n",
    "        else:\n",
    "            logging.error(\"Launch Authorization Failed! Access Denied.\")\n",
    "    def is_within_launch_zone(self,latitude, longitude):\n",
    "        self.patrol <=self.desired\n",
    "\n",
    "    def launch_missile(self):\n",
    "        \"\"\"Simulates launching a missile.\"\"\"\n",
    "        if self.warheads:\n",
    "            warhead = self.warheads.pop(0)  # Fire the first available warhead\n",
    "            logging.info(f\"🚀 Missile launched carrying {warhead.get_info()}!\")\n",
    "        else:\n",
    "            logging.warning(\"No warheads available for launch.\")\n",
    "\n",
    "# JSON Data (Simulating a warhead payload inventory)\n",
    "warhead_json = '''\n",
    "[\n",
    "    {\"warhead_id\": \"W001\", \"type\": \"Thermonuclear\", \"yield_kt\": 1000},\n",
    "    {\"warhead_id\": \"W002\", \"type\": \"Tactical\", \"yield_kt\": 300}\n",
    "]\n",
    "'''\n",
    "\n",
    "# Load warhead data\n",
    "warhead_data = json.loads(warhead_json)\n",
    "\n",
    "# Initialize submarine\n",
    "submarine = Submarine(\"USS Trident\", warhead_data)\n",
    "\n",
    "# 🚀 Try launching with an incorrect code\n",
    "submarine.authorize_launch(\"INVALID-123\")\n",
    "\n",
    "# 🚀 Try launching with a valid code\n",
    "submarine.authorize_launch(\"AUTH-XYZ123-4567-SECURE\")\n"
   ]
  },
  {
   "cell_type": "code",
   "execution_count": null,
   "id": "6e0f1e53-2104-4913-8e07-e1ab4c3bca3b",
   "metadata": {},
   "outputs": [],
   "source": []
  }
 ],
 "metadata": {
  "kernelspec": {
   "display_name": "Python [conda env:base] *",
   "language": "python",
   "name": "conda-base-py"
  },
  "language_info": {
   "codemirror_mode": {
    "name": "ipython",
    "version": 3
   },
   "file_extension": ".py",
   "mimetype": "text/x-python",
   "name": "python",
   "nbconvert_exporter": "python",
   "pygments_lexer": "ipython3",
   "version": "3.12.7"
  }
 },
 "nbformat": 4,
 "nbformat_minor": 5
}
