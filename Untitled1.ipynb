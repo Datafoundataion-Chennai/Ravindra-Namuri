{
 "cells": [
  {
   "cell_type": "code",
   "execution_count": 15,
   "id": "d01b0b87-b56b-42a3-b27a-5d8850767acb",
   "metadata": {},
   "outputs": [],
   "source": [
    "class Character:\n",
    "    def __init__(self,name,health,attack_power,defense,speed):\n",
    "        self.name=name\n",
    "        self.health=health\n",
    "        self.attack_power=attack_power\n",
    "        self.defense=defense\n",
    "        self.speed=speed\n",
    "    def attack(self,target):\n",
    "        damage=self.attack_power - target.defense\n",
    "        damage =max(damage, 1)\n",
    "        target.take_damage(damage)\n",
    "    def take_damage(self,amount):\n",
    "        self.health -=amount\n",
    "        if self.health <0:\n",
    "            self.health=0\n",
    "    def isalive(self):\n",
    "        if self.health > 0:\n",
    "            print(\"player is alive\")\n",
    "            return self.health >0\n",
    "\n",
    "class Warrior(Character):\n",
    "    def __init__(self,name,health,attack_power,defense,speed,rage=0):\n",
    "        super().__init__(name,health,attack_power,defense,speed)\n",
    "        self.rage=rage\n",
    "    def berserk_mode(self):\n",
    "        if self.health < 30:\n",
    "            self.attack_power= 2* self.attack_power\n",
    "        else:\n",
    "            self.attack_power = self.attack_power\n",
    "warrior = Warrior(name=\"Thor\", health=100, attack_power=20, defense=5, speed=10)\n",
    "class Mage(Character):\n",
    "    def __init__(self,name,health,attack_power,defense,speed,mana=100):\n",
    "        super().__init__(name,health,attack_power,defense,speed)\n",
    "        self.mana=mana\n",
    "    def fire_ball(self):\n",
    "        if self.mana > 0:\n",
    "            damage = self.attack_power * 1.5\n",
    "            target.take_damage(damage)\n",
    "            self.mana -= 1\n",
    "        else:\n",
    "            print(f\"{self.name} has no mana\")\n",
    "mage = Mage(name=\"Gandalf\", health=80, attack_power=15, defense=3, speed=8)\n",
    "class Archer(Character):\n",
    "    def __init__(self,name,health,attack_power,defense,speed,critical_chance):\n",
    "        super().__init__(name,health,attack_power,defense,speed)\n",
    "        self.critical_chance=critical_chance\n",
    "    def precision_shot(self):\n",
    "        damage=attack_power *2\n",
    "        target.take_damage(damage)\n",
    "archer = Archer(name=\"Legolas\", health=70, attack_power=12, defense=2, speed=15, critical_chance=0.3)"
   ]
  },
  {
   "cell_type": "code",
   "execution_count": null,
   "id": "1b916340-af1a-43aa-9495-1e0652b1a00f",
   "metadata": {},
   "outputs": [],
   "source": []
  }
 ],
 "metadata": {
  "kernelspec": {
   "display_name": "Python [conda env:base] *",
   "language": "python",
   "name": "conda-base-py"
  },
  "language_info": {
   "codemirror_mode": {
    "name": "ipython",
    "version": 3
   },
   "file_extension": ".py",
   "mimetype": "text/x-python",
   "name": "python",
   "nbconvert_exporter": "python",
   "pygments_lexer": "ipython3",
   "version": "3.12.7"
  }
 },
 "nbformat": 4,
 "nbformat_minor": 5
}
