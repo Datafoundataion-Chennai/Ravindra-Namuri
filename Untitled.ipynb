{
 "cells": [
  {
   "cell_type": "code",
   "execution_count": 5,
   "id": "b6cc9b66-9155-4b66-b3af-fd2a6bbd1d06",
   "metadata": {},
   "outputs": [
    {
     "name": "stdin",
     "output_type": "stream",
     "text": [
      " [1,2,3]\n"
     ]
    },
    {
     "name": "stdout",
     "output_type": "stream",
     "text": [
      "]\n"
     ]
    }
   ],
   "source": []
  },
  {
   "cell_type": "code",
   "execution_count": 55,
   "id": "94e0d63f-eb5d-4356-bf7d-24737f7b151f",
   "metadata": {},
   "outputs": [
    {
     "name": "stdin",
     "output_type": "stream",
     "text": [
      " 5,5\n"
     ]
    },
    {
     "name": "stdout",
     "output_type": "stream",
     "text": [
      "5\n"
     ]
    }
   ],
   "source": [
    "list=input()\n",
    "n=len(list)\n",
    "sort=sorted(list)\n",
    "print(sort[n-2])"
   ]
  },
  {
   "cell_type": "code",
   "execution_count": 74,
   "id": "0158baf5-055d-4ef7-9b16-c26c650ccd35",
   "metadata": {},
   "outputs": [
    {
     "name": "stdout",
     "output_type": "stream",
     "text": [
      "{'hello': 2, 'world': 1}\n"
     ]
    }
   ],
   "source": [
    "sentence=\"hello world hello\"\n",
    "dict={}\n",
    "words=sentence.lower().split(\" \")\n",
    "freq={}\n",
    "for word in words:\n",
    "   if word in freq:\n",
    "       freq[word] +=1\n",
    "   else:\n",
    "       freq[word]=1\n",
    "print(freq)\n",
    "  \n"
   ]
  },
  {
   "cell_type": "code",
   "execution_count": 71,
   "id": "9ca48782-d2f9-46af-8d40-f2b08987baec",
   "metadata": {},
   "outputs": [
    {
     "name": "stdout",
     "output_type": "stream",
     "text": [
      "{'a': 10, 'b': 10, 'c': 15}\n"
     ]
    }
   ],
   "source": [
    "dict1={'a':10,'b':5}\n",
    "dict2={'b':5,'c':15}\n",
    "merged_dict={key:dict1.get(key,0)+dict2.get(key,0) for key in (dict1)| (dict2)}\n",
    "print(merged_dict)\n",
    "       "
   ]
  },
  {
   "cell_type": "code",
   "execution_count": 104,
   "id": "462ee5ae-8246-49c2-9c84-b5c01dadde82",
   "metadata": {},
   "outputs": [
    {
     "name": "stdout",
     "output_type": "stream",
     "text": [
      "[4, 5, 1, 2, 3]\n"
     ]
    }
   ],
   "source": [
    "nums=[1,2,3,4,5]\n",
    "k=2\n",
    "print (nums[-2:] + nums[:-2]) "
   ]
  },
  {
   "cell_type": "code",
   "execution_count": 110,
   "id": "13641023-cd53-455d-bf53-2a91026076e8",
   "metadata": {},
   "outputs": [
    {
     "name": "stdout",
     "output_type": "stream",
     "text": [
      "1 8\n",
      "2 7\n",
      "3 6\n",
      "4 5\n"
     ]
    }
   ],
   "source": [
    "nums=[1,2,3,4,5,6,7,8]\n",
    "target=9\n",
    "for i in range(len(nums)):\n",
    "    for j in range(i,len(nums)):\n",
    "        if nums[i] + nums[j]==target:\n",
    "            \n",
    "            print(nums[i],nums[j])"
   ]
  },
  {
   "cell_type": "code",
   "execution_count": 43,
   "id": "975001df-b733-4729-a6a0-53c2c7de32d4",
   "metadata": {},
   "outputs": [
    {
     "name": "stdout",
     "output_type": "stream",
     "text": [
      "97.23\n"
     ]
    }
   ],
   "source": [
    "prices = [\"12.99\", \"23.50\", \"9.99\", \"45.00\", \"5.75\"]\n",
    "total_price=0\n",
    "li2 =list(map(lambda x: float(x),(prices)))\n",
    "for i in li2:\n",
    "    total_price +=i\n",
    "print(total_price)"
   ]
  },
  {
   "cell_type": "code",
   "execution_count": 29,
   "id": "8cda5ed2-3e31-4b5b-aeb3-290101ab7a3e",
   "metadata": {},
   "outputs": [
    {
     "name": "stdout",
     "output_type": "stream",
     "text": [
      "[True, False, True, False, True, False]\n"
     ]
    }
   ],
   "source": [
    "words = [\"apple\", \"banana\", \"grape\", \"kiwi\", \"mango\", \"strawberry\"]\n",
    "li =list(map(lambda x: len(x) %2 ==1,words))\n",
    "print(li)"
   ]
  },
  {
   "cell_type": "code",
   "execution_count": 115,
   "id": "d9221218-10f1-45b0-a8a7-ec09ef7b3e4c",
   "metadata": {},
   "outputs": [
    {
     "name": "stdout",
     "output_type": "stream",
     "text": [
      "[(3, 1, 3), (3, 2, 6), (3, 3, 9), (3, 4, 12), (3, 5, 15), (3, 6, 18), (3, 7, 21), (3, 8, 24), (3, 9, 27), (3, 10, 30)]\n"
     ]
    }
   ],
   "source": [
    "num=3\n",
    "n=10\n",
    "li=[]\n",
    "for i in range(1,n+1):\n",
    "    result =[(num,i,num*i) for i in range (1,11)]\n",
    "    \n",
    "print(result)"
   ]
  },
  {
   "cell_type": "code",
   "execution_count": 121,
   "id": "b73f8c9e-7697-4087-bb1c-639697b287ac",
   "metadata": {},
   "outputs": [
    {
     "name": "stdout",
     "output_type": "stream",
     "text": [
      "3\n"
     ]
    }
   ],
   "source": [
    "string=\"Hello World\"\n",
    "words=string.lower()\n",
    "vowels='aeiou'\n",
    "count=0\n",
    "for i in words:\n",
    "    if i in vowels:\n",
    "        count +=1\n",
    "print(count)\n"
   ]
  },
  {
   "cell_type": "code",
   "execution_count": 143,
   "id": "197c85d2-06d1-4917-8caa-195b7376dbb4",
   "metadata": {},
   "outputs": [
    {
     "name": "stdout",
     "output_type": "stream",
     "text": [
      "4\n"
     ]
    }
   ],
   "source": [
    "li=[100,4,200,1,3,2]\n",
    "li2=sorted(li)\n",
    "count=1\n",
    "for i in range(len(li2)-1):\n",
    "    if li2[i]+1==li2[i+1]:\n",
    "        \n",
    "        count +=1\n",
    "print(count)                 "
   ]
  },
  {
   "cell_type": "code",
   "execution_count": null,
   "id": "b02fdece-b1f9-40ec-a502-474269c95e17",
   "metadata": {},
   "outputs": [],
   "source": [
    "Input: [\"eat\", \"tea\", \"tan\", \"ate\", \"nat\", \"bat\"]\n",
    "for i  in range"
   ]
  },
  {
   "cell_type": "code",
   "execution_count": 163,
   "id": "291db476-40db-4d42-885a-91f5bcd2ceb7",
   "metadata": {},
   "outputs": [
    {
     "name": "stdout",
     "output_type": "stream",
     "text": [
      "{'player1': 1, 'player2': 2}\n",
      "[(1, 1), (1, 2), (1, 3), (1, 4), (1, 5), (1, 6), (2, 1), (2, 2), (2, 3), (2, 4), (2, 5), (2, 6), (3, 1), (3, 2), (3, 3), (3, 4), (3, 5), (3, 6), (4, 1), (4, 2), (4, 3), (4, 4), (4, 5), (4, 6), (5, 1), (5, 2), (5, 3), (5, 4), (5, 5), (5, 6), (6, 1), (6, 2), (6, 3), (6, 4), (6, 5), (6, 6)]\n",
      "{2: [(1, 1)], 3: [(1, 2), (2, 1)], 4: [(1, 3), (2, 2), (3, 1)], 5: [(1, 4), (2, 3), (3, 2), (4, 1)], 6: [(1, 5), (2, 4), (3, 3), (4, 2), (5, 1)], 7: [(1, 6), (2, 5), (3, 4), (4, 3), (5, 2), (6, 1)], 8: [(2, 6), (3, 5), (4, 4), (5, 3), (6, 2)], 9: [(3, 6), (4, 5), (5, 4), (6, 3)], 10: [(4, 6), (5, 5), (6, 4)], 11: [(5, 6), (6, 5)], 12: [(6, 6)]}\n",
      "{2: 2.7777777777777777, 3: 5.555555555555555, 4: 8.333333333333332, 5: 11.11111111111111, 6: 13.88888888888889, 7: 16.666666666666664, 8: 13.88888888888889, 9: 11.11111111111111, 10: 8.333333333333332, 11: 5.555555555555555, 12: 2.7777777777777777}\n"
     ]
    }
   ],
   "source": [
    "d1 = [1,2,3,4,5,6]\n",
    "d2 = [1,2,3,4,5,6]\n",
    "R = 5\n",
    "o = [[(1,3),(4,5)],[(2,3),(4,5)],[(1,6),(2,2)],[(3,4),(5,1)],[(6,6),(1,1)]]\n",
    "score ={'player1':0,'player2':0}\n",
    "for i in o:\n",
    "    p1=sum(i[0])\n",
    "    p2=sum(i[1])\n",
    "    probability_1=di[p1]\n",
    "    probability_2=di[p2]\n",
    "    if probability_1 < probability_2:\n",
    "        score['player1'] +=1\n",
    "    elif probability_2 < probability_1:\n",
    "        \n",
    "        \n",
    "        score['player2'] +=1\n",
    "print(score)\n",
    "li = []\n",
    "for i in d1:\n",
    "    for j in d2:\n",
    "        li.append((i,j))\n",
    "\n",
    "print(li)\n",
    "di = {}\n",
    "for i in li:\n",
    "    s = sum(i)\n",
    "    if s in di:\n",
    "        di[s].append(i)\n",
    "    else:\n",
    "        di[s] = [i];\n",
    "print(di)\n",
    "\n",
    "n = len(li)\n",
    "for i,j in di.items():\n",
    "    di[i] = len(j)/n*100\n",
    "\n",
    "print(di)\n",
    "\n"
   ]
  },
  {
   "cell_type": "code",
   "execution_count": null,
   "id": "3bad3f7b-ab95-4e06-a481-b0072f39c8d9",
   "metadata": {},
   "outputs": [],
   "source": []
  }
 ],
 "metadata": {
  "kernelspec": {
   "display_name": "Python [conda env:base] *",
   "language": "python",
   "name": "conda-base-py"
  },
  "language_info": {
   "codemirror_mode": {
    "name": "ipython",
    "version": 3
   },
   "file_extension": ".py",
   "mimetype": "text/x-python",
   "name": "python",
   "nbconvert_exporter": "python",
   "pygments_lexer": "ipython3",
   "version": "3.12.7"
  }
 },
 "nbformat": 4,
 "nbformat_minor": 5
}
